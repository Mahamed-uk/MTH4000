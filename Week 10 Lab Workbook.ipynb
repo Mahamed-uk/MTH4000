{
 "cells": [
  {
   "cell_type": "markdown",
   "metadata": {
    "slideshow": {
     "slide_type": "-"
    }
   },
   "source": [
    "<h1> MTH4000 Programming in Python I</h1>\n",
    "<h2> Week 10 Lab Workbook</h2>\n",
    "<h3><em> Dr Matthew Lewis and Prof. Thomas Prellberg </em></h3>"
   ]
  },
  {
   "attachments": {
    "image.png": {
     "image/png": "[encoded data removed]"
    }
   },
   "cell_type": "markdown",
   "metadata": {},
   "source": [
    "In these exercises, we will look deeper into dealing with composite data and NumPy.\n",
    "\n",
    "<h2> Exercise 1: <em>Hypercubes</em> </h2>\n",
    "\n",
    "Hypercubes are generalisations of three-dimensional cubes into other dimensions.\n",
    "\n",
    "![image.png](attachment:image.png)\n",
    "\n",
    "We successively get point, line, square, cube, tesseract, ...\n",
    "\n",
    "The figure suggests that we can build up a hypercube of dimension $d+1$ by connecting two copies of a hypercube of dimension $d$.  This setup appears to lend itself to a recursive argument.\n",
    "\n",
    "While it is hard to visualise constructions in dimensions above three, there is a very easy way to describe a $d$-dimensional hypercube: the coordinates of each of the $2^d$ corners are given by a sequence of $d$ zeros and ones.  In other words, we can use it to visualise binary numbers.\n",
    "\n",
    "<h3> Exercise 1.1: <em> Hypercube Corners </em> </h3>\n",
    "\n",
    "Write a function <code>hypercube_corners</code> that accepts a non-negative integer $d$ and returns a list of coordinates of all $2^d$ corners of a $d$-dimensional hypercube.\n",
    "\n",
    "There are many ways of doing this.  One way is to take the coordinates for a $(d-1)$-dimensional hypercube and append a zero or a one.  Another way is to use bitwise logic.  All you need to know is that the expression <code>x <span style=\"color: rgb(170, 34, 255); font-weight: bold;\">&</span> <span style=\"color: rgb(0, 136, 0);\">2</span><span style=\"color: rgb(170, 34, 255); font-weight: bold;\">**</span>k</code> is non-zero if the binary expansion of the value $x$ contains $2^k$."
   ]
  },
  {
   "cell_type": "code",
   "execution_count": 1,
   "metadata": {
    "ExecuteTime": {
     "end_time": "2023-11-18T12:34:51.377837Z",
     "start_time": "2023-11-18T12:34:51.369195Z"
    }
   },
   "outputs": [],
   "source": [
    "def hypercube_corners(d):\n",
    "    # List to store the corners\n",
    "    corners = []\n",
    "    \n",
    "    # There are 2^d corners in a d-dimensional hypercube\n",
    "    for i in range(2**d):\n",
    "        # Generate the binary representation of i, padded to d bits\n",
    "        corner = [int(bit) for bit in bin(i)[2:].zfill(d)]\n",
    "        corners.append(corner)\n",
    "    \n",
    "    return corners"
   ]
  },
  {
   "cell_type": "markdown",
   "metadata": {},
   "source": [
    "<h3> Exercise 1.2: <em> One-Liner for Hypercube Corners <span style=\"color: red;\">(Difficult)</span></em> </h3>\n",
    "\n",
    "Write a one-line <code><span style=\"color: rgb(0, 128, 0); font-weight: bold;\">lambda</span></code> function <code>hypercube_corners</code> that completes the task set in Exercise 1.1."
   ]
  },
  {
   "cell_type": "code",
   "execution_count": null,
   "metadata": {
    "ExecuteTime": {
     "end_time": "2023-11-18T12:35:05.758356Z",
     "start_time": "2023-11-18T12:35:05.751288Z"
    }
   },
   "outputs": [],
   "source": [
    "hypercube_corners = lambda d: [[(x >> i) & 1 for i in range(d)] for x in range(2**d)]"
   ]
  },
  {
   "cell_type": "markdown",
   "metadata": {},
   "source": [
    "<h3> Exercise 1.3: <em> Hypercube Debugging </em> </h3>\n",
    "\n",
    "A coder has decided to code up the above problem in the following way."
   ]
  },
  {
   "cell_type": "code",
   "execution_count": 2,
   "metadata": {
    "ExecuteTime": {
     "end_time": "2023-11-18T12:58:28.143840Z",
     "start_time": "2023-11-18T12:58:28.137440Z"
    }
   },
   "outputs": [
    {
     "name": "stdout",
     "output_type": "stream",
     "text": [
      "0 [[]]\n",
      "1 [[0, 1], [0, 1]]\n",
      "2 [[0, 1, 0, 1, 0, 0, 1, 1], [0, 1, 0, 1, 0, 0, 1, 1], [0, 1, 0, 1, 0, 0, 1, 1], [0, 1, 0, 1, 0, 0, 1, 1]]\n",
      "3 [[0, 1, 0, 1, 0, 1, 0, 1, 0, 0, 1, 1, 0, 0, 1, 1, 0, 0, 0, 0, 1, 1, 1, 1], [0, 1, 0, 1, 0, 1, 0, 1, 0, 0, 1, 1, 0, 0, 1, 1, 0, 0, 0, 0, 1, 1, 1, 1], [0, 1, 0, 1, 0, 1, 0, 1, 0, 0, 1, 1, 0, 0, 1, 1, 0, 0, 0, 0, 1, 1, 1, 1], [0, 1, 0, 1, 0, 1, 0, 1, 0, 0, 1, 1, 0, 0, 1, 1, 0, 0, 0, 0, 1, 1, 1, 1], [0, 1, 0, 1, 0, 1, 0, 1, 0, 0, 1, 1, 0, 0, 1, 1, 0, 0, 0, 0, 1, 1, 1, 1], [0, 1, 0, 1, 0, 1, 0, 1, 0, 0, 1, 1, 0, 0, 1, 1, 0, 0, 0, 0, 1, 1, 1, 1], [0, 1, 0, 1, 0, 1, 0, 1, 0, 0, 1, 1, 0, 0, 1, 1, 0, 0, 0, 0, 1, 1, 1, 1], [0, 1, 0, 1, 0, 1, 0, 1, 0, 0, 1, 1, 0, 0, 1, 1, 0, 0, 0, 0, 1, 1, 1, 1]]\n"
     ]
    }
   ],
   "source": [
    "bit = lambda x, k: int(x&2**k>0) # Returns one if x contains 2^k.\n",
    "\n",
    "def hypercube_corners(d):\n",
    "    l = [[]]*2**d # Create a list with 2^d empty lists to append to individually.\n",
    "    for k in range(d): # For all the coordinates.\n",
    "        for x in range(2**d): # For all the points.\n",
    "            l[x].append(bit(x,k)) # Append zero or one to each list.\n",
    "    return l\n",
    "\n",
    "for d in range(4):\n",
    "    print(d, hypercube_corners(d))"
   ]
  },
  {
   "cell_type": "markdown",
   "metadata": {},
   "source": [
    "The idea seems sound, but the results are clearly incorrect. Identify the problem and fix it."
   ]
  },
  {
   "cell_type": "code",
   "execution_count": 3,
   "metadata": {
    "ExecuteTime": {
     "end_time": "2023-11-18T12:58:23.772086Z",
     "start_time": "2023-11-18T12:58:23.765412Z"
    }
   },
   "outputs": [
    {
     "name": "stdout",
     "output_type": "stream",
     "text": [
      "0 [[]]\n",
      "1 [[0], [1]]\n",
      "2 [[0, 0], [1, 0], [0, 1], [1, 1]]\n",
      "3 [[0, 0, 0], [1, 0, 0], [0, 1, 0], [1, 1, 0], [0, 0, 1], [1, 0, 1], [0, 1, 1], [1, 1, 1]]\n"
     ]
    }
   ],
   "source": [
    "bit = lambda x, k: int(x & 2**k > 0)  # Returns one if x contains 2^k.\n",
    "\n",
    "def hypercube_corners(d):\n",
    "    l = [[] for _ in range(2**d)]  # Create a list with 2^d separate empty lists.\n",
    "    for k in range(d):  # For all the coordinates.\n",
    "        for x in range(2**d):  # For all the points.\n",
    "            l[x].append(bit(x, k))  # Append zero or one to each list.\n",
    "    return l\n",
    "\n",
    "for d in range(4):\n",
    "    print(d, hypercube_corners(d))"
   ]
  },
  {
   "cell_type": "markdown",
   "metadata": {},
   "source": [
    "<h3> Exercise 1.4: <em> Hamming Distance </em> </h3>\n",
    "\n",
    "The Hamming distance is the distance between two binary numbers as measured by the number of differing bits. It represents the minimal number of times a bit needs to be changed in order to transform one number into the other.\n",
    "\n",
    "Geometrically, each such bit change corresponds to an edge traversal on a hypercube, so this is the same as the minimal number of edges on the hypercube that separate the two corresponding corners. \n",
    "\n",
    "Write a function <code>hamming</code> that accepts two positive integers <code>x</code> and <code>y</code>, and computes their Hamming distance when they are written as binary numbers. \n",
    "\n",
    "(<b>Note:</b> If you use the <code>bin</code> function before the comparison you might need to pad the strings with leading zeros.)"
   ]
  },
  {
   "cell_type": "code",
   "execution_count": null,
   "metadata": {
    "ExecuteTime": {
     "end_time": "2023-11-18T19:17:00.689789Z",
     "start_time": "2023-11-18T19:17:00.681492Z"
    }
   },
   "outputs": [],
   "source": [
    "def hamming(x, y):\n",
    "    return bin(x ^ y).count('1')"
   ]
  },
  {
   "cell_type": "markdown",
   "metadata": {},
   "source": [
    "<h3> Exercise 1.5: <em> One-Liner for Hamming Distance </em> </h3>\n",
    "\n",
    "Write a one-line <code><span style=\"color: rgb(0, 128, 0); font-weight: bold;\">lambda</span></code> function <code>hamming</code> that completes the task set in Exercise 1.4."
   ]
  },
  {
   "cell_type": "code",
   "execution_count": 4,
   "metadata": {
    "ExecuteTime": {
     "end_time": "2023-11-18T19:25:30.734852Z",
     "start_time": "2023-11-18T19:25:30.727094Z"
    }
   },
   "outputs": [],
   "source": [
    "hamming = lambda x, y: bin(x ^ y).count('1')"
   ]
  },
  {
   "cell_type": "markdown",
   "metadata": {},
   "source": [
    "<h2> Exercise 2: <em>ChatGPT</em> </h2>\n",
    "\n",
    "<h3> Exercise 2.1: <em> ChatGPT's Hypercube Debugging </em> </h3>\n",
    "\n",
    "Ask ChatGPT to provide feedback on the flawed code in Exercise 1.3.  (Do not do this before you have found the error in the code yourself.)"
   ]
  },
  {
   "cell_type": "markdown",
   "metadata": {
    "jp-MarkdownHeadingCollapsed": true
   },
   "source": [
    "<h3> Exercise 2.2: <em> ChatGPT's Hypercube Counselling </em> </h3>\n",
    "\n",
    "Ask ChatGPT to explain the (fixed) code to you. You will likely get a high-quality response."
   ]
  },
  {
   "cell_type": "markdown",
   "metadata": {},
   "source": [
    "<h2> Exercise 3: <em>Central Limit Theorem</em> </h2>"
   ]
  },
  {
   "cell_type": "markdown",
   "metadata": {},
   "source": [
    "For the next exercise, we will need the following imports."
   ]
  },
  {
   "cell_type": "code",
   "execution_count": 5,
   "metadata": {},
   "outputs": [],
   "source": [
    "import numpy as np\n",
    "import matplotlib.pyplot as plt"
   ]
  },
  {
   "cell_type": "markdown",
   "metadata": {},
   "source": [
    "In <em>MTH4500 Probability and Statistics</em> you will learn that repeated sampling from some distribution with mean $\\mu$ and variance $\\sigma^2$ will be well-approximated by a normal distribution, in the sense that the sum of random variables $X_k$ sampled from that distribution is for large $N$ close to a normal distributed random variable $Y$ with mean $n\\mu$ and variance $n\\sigma^2$:\n",
    "\n",
    "$$X=X_1+X_2+\\ldots+X_n\\approx Y$$\n",
    "\n",
    "In this exercise we will numerically test this assertion.\n",
    "\n",
    "NumPy allows for easy generation of arrays of random numbers. For example, if we want to have $10000$ random numbers drawn from the uniform distribution on $[0,1]$, we can use the following code."
   ]
  },
  {
   "cell_type": "code",
   "execution_count": 6,
   "metadata": {},
   "outputs": [],
   "source": [
    "# Generate 10000 random numbers.\n",
    "a = np.random.uniform(0, 1, 10000)"
   ]
  },
  {
   "cell_type": "markdown",
   "metadata": {},
   "source": [
    "Instead of looking at these random numbers, we can visualise them with histograms using the <code>hist</code> function in the PyPlot module, with optional parameters such as the number of bins and the range that the bins should cover."
   ]
  },
  {
   "cell_type": "code",
   "execution_count": 7,
   "metadata": {},
   "outputs": [
    {
     "data": {
      "image/png": "[encoded data removed]",
      "text/plain": [
       "<Figure size 640x480 with 1 Axes>"
      ]
     },
     "metadata": {},
     "output_type": "display_data"
    }
   ],
   "source": [
    "# Draw default histogram.\n",
    "plt.hist(a)\n",
    "\n",
    "# Draw histogram using 40 bins.\n",
    "plt.hist(a, range=[0,1], bins = 40)\n",
    "plt.show()"
   ]
  },
  {
   "cell_type": "markdown",
   "metadata": {},
   "source": [
    "Clearly, the more bins we use, the fewer samples we will find in each of them.\n",
    "\n",
    "The uniform distribution on $[0,1]$ has mean $\\mu=1/2$ and variance $\\sigma^2=1/12\\approx0.0833$. We can confirm this quickly by computing mean and variance of our sampled $10000$ random numbers."
   ]
  },
  {
   "cell_type": "code",
   "execution_count": 8,
   "metadata": {},
   "outputs": [
    {
     "name": "stdout",
     "output_type": "stream",
     "text": [
      "mean: 0.4945, variance: 0.0818\n"
     ]
    }
   ],
   "source": [
    "print (f\"mean: {a.mean():.4f}, variance: {a.var():.4f}\")"
   ]
  },
  {
   "cell_type": "markdown",
   "metadata": {},
   "source": [
    "To work towards the Central Limit Theorem, let us first consider taking the sum of two random variables. To practice working with NumPy, we created a $2 \\times 10000$ array filled with random numbers and then take the column sum."
   ]
  },
  {
   "cell_type": "code",
   "execution_count": 9,
   "metadata": {},
   "outputs": [],
   "source": [
    "# Generate 2x10000 random numbers.\n",
    "a2 = np.random.uniform(0, 1, (2, 10000))\n",
    "a2_sum = a2.sum(axis = 0)"
   ]
  },
  {
   "cell_type": "markdown",
   "metadata": {},
   "source": [
    "And again, instead of looking at the numbers, it is more instructive to plot the histogram."
   ]
  },
  {
   "cell_type": "code",
   "execution_count": 10,
   "metadata": {},
   "outputs": [
    {
     "data": {
      "image/png": "[encoded data removed]",
      "text/plain": [
       "<Figure size 640x480 with 1 Axes>"
      ]
     },
     "metadata": {},
     "output_type": "display_data"
    }
   ],
   "source": [
    "# Draw histogram.\n",
    "plt.hist(a2_sum,bins=20,range=[0,2])\n",
    "plt.show()"
   ]
  },
  {
   "cell_type": "code",
   "execution_count": 11,
   "metadata": {},
   "outputs": [
    {
     "name": "stdout",
     "output_type": "stream",
     "text": [
      "mean: 1.0082, variance: 0.1652\n"
     ]
    }
   ],
   "source": [
    "print (f\"mean: {a2_sum.mean():.4f}, variance: {a2_sum.var():.4f}\")"
   ]
  },
  {
   "cell_type": "markdown",
   "metadata": {},
   "source": [
    "The mean and variance have roughly doubled, as expected. You may also recognise a piecewise linear tent-shaped distribution. "
   ]
  },
  {
   "cell_type": "code",
   "execution_count": 12,
   "metadata": {},
   "outputs": [
    {
     "data": {
      "image/png": "[encoded data removed]",
      "text/plain": [
       "<Figure size 640x480 with 1 Axes>"
      ]
     },
     "metadata": {},
     "output_type": "display_data"
    }
   ],
   "source": [
    "plt.hist(a2_sum, bins=40, range=[0,2])\n",
    "x = np.linspace(0, 2, 1000)\n",
    "y = 1-np.abs(1-x)\n",
    "plt.plot(x, 500*y)\n",
    "plt.show()"
   ]
  },
  {
   "cell_type": "markdown",
   "metadata": {},
   "source": [
    "How did we arrive at a factor of $500$ in the plot of the distribution?\n",
    "\n",
    "Clearly $1-|1-x|$ is normalised to $1$, so to map it to match the histogram, we need to multiply it with the sample size $10000$ and the bin width $2/40$, which gives $500$.\n",
    "\n",
    "<h3> Exercise 3.1: <em> Verify the Statement of the Central Limit Theorem </em> </h3>\n",
    "\n",
    "Of course the Central Limit Theorem is not just a statement about the growth of the mean and the variance, but about a convergence to the normal distribution. In other words, the distribution of $X=\\sum_{i=1}^n X_i$ should be normally distributed. To test this, we need to not only take the sum of two random variables, as in our example above, but of a larger number of these.\n",
    "\n",
    "For $n=10$, $30$, and $100$, plot the resulting histograms and the corresponding <a href=\"https://en.wikipedia.org/wiki/Normal_distribution\">normal distribution</a> (make sure to scale this appropriately by the number of samples)."
   ]
  },
  {
   "cell_type": "code",
   "execution_count": null,
   "metadata": {},
   "outputs": [],
   "source": []
  },
  {
   "cell_type": "code",
   "execution_count": null,
   "metadata": {},
   "outputs": [],
   "source": []
  },
  {
   "cell_type": "code",
   "execution_count": null,
   "metadata": {},
   "outputs": [],
   "source": []
  },
  {
   "cell_type": "markdown",
   "metadata": {},
   "source": [
    "<h3> Exercise 3.2: <em> Repeat this for the Exponential Distribution with Parameter $\\lambda = 1$ </em> </h3>"
   ]
  },
  {
   "cell_type": "code",
   "execution_count": null,
   "metadata": {},
   "outputs": [],
   "source": []
  },
  {
   "cell_type": "code",
   "execution_count": null,
   "metadata": {},
   "outputs": [],
   "source": []
  },
  {
   "cell_type": "code",
   "execution_count": null,
   "metadata": {},
   "outputs": [],
   "source": []
  },
  {
   "cell_type": "markdown",
   "metadata": {},
   "source": [
    "<h2> Feedback </h2>\n",
    "\n",
    "Attempt all of these questions during Week 10. This worksheet will be discussed in detail on a Lab Walkthrough video to be posted to QMplus at the end of the week.\n",
    "\n",
    "If you have any problems or questions, or simply you would like some feedback, then you can:\n",
    "\n",
    "<ul>\n",
    "    <li> Ask the tutors present in your IT Lab sessions.</li><br>\n",
    "    <li> Ask the Student Forum on the module's QM Plus page.</li><br>\n",
    "    <li> Email the lecturers for assistance.</li>\n",
    "</ul>"
   ]
  }
 ],
 "metadata": {
  "kernelspec": {
   "display_name": "Python 3 (ipykernel)",
   "language": "python",
   "name": "python3"
  },
  "language_info": {
   "codemirror_mode": {
    "name": "ipython",
    "version": 3
   },
   "file_extension": ".py",
   "mimetype": "text/x-python",
   "name": "python",
   "nbconvert_exporter": "python",
   "pygments_lexer": "ipython3",
   "version": "3.11.9"
  },
  "panel-cell-order": [
   "7347847c",
   "28cc8abf",
   "cc42aced",
   "bdb0f9a6",
   "c19c1e6f",
   "f4cf5efb",
   "0c1bf158",
   "5142e7bf",
   "d9e42181",
   "1744b38a",
   "82ba777e",
   "e15b427a",
   "fb4e84aa",
   "189529a7",
   "f4ad6fbf",
   "5d33d541",
   "9f08a127",
   "a67b885b",
   "0f44a6a7",
   "6342c68f",
   "057ebf20",
   "67d2e3f8",
   "5ac6d0c9",
   "3c2c6718",
   "70eab40d",
   "cc998c4e",
   "ba2a2051",
   "4fcce785",
   "b6924beb",
   "a8bb11c7",
   "06bda50a",
   "d58ae12b",
   "720288d2",
   "7667db01",
   "c395c4d3",
   "e57b593f",
   "b45d479c",
   "5ddd18e4",
   "bf281bd5",
   "37fb07c5",
   "83a96a02",
   "be51f541",
   "f7521323",
   "5f26a7d1",
   "a851c30e",
   "55080c3a",
   "968f1d18"
  ]
 },
 "nbformat": 4,
 "nbformat_minor": 4
}
